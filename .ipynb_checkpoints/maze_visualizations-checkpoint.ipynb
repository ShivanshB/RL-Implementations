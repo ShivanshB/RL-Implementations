{
 "cells": [
  {
   "cell_type": "markdown",
   "id": "6903fd7b-31a6-42a4-a062-7e5332308508",
   "metadata": {},
   "source": [
    "# Maze Gen"
   ]
  },
  {
   "cell_type": "code",
   "execution_count": 139,
   "id": "30f637e7-efec-491f-aa89-4ba8e539c5f5",
   "metadata": {},
   "outputs": [
    {
     "data": {
      "text/plain": [
       "<module 'generate_maze' from '/Users/sbaveja/Documents/RL-Implementations/generate_maze.py'>"
      ]
     },
     "execution_count": 139,
     "metadata": {},
     "output_type": "execute_result"
    }
   ],
   "source": [
    "import importlib\n",
    "import generate_maze\n",
    "\n",
    "# Make changes to your_module.py\n",
    "\n",
    "# Reload the module to reflect changes\n",
    "importlib.reload(generate_maze)"
   ]
  },
  {
   "cell_type": "code",
   "execution_count": 140,
   "id": "9773cea2-11eb-47a4-a5e8-08490cffd72c",
   "metadata": {},
   "outputs": [],
   "source": [
    "from generate_maze import MazeGenerator\n",
    "import matplotlib.pyplot as plt"
   ]
  },
  {
   "cell_type": "code",
   "execution_count": 141,
   "id": "a94516bc-dc53-4fa4-a962-6dead8d74556",
   "metadata": {},
   "outputs": [
    {
     "data": {
      "text/plain": [
       "<matplotlib.image.AxesImage at 0x12761e490>"
      ]
     },
     "execution_count": 141,
     "metadata": {},
     "output_type": "execute_result"
    },
    {
     "data": {
      "image/png": "[encoded data removed]",
      "text/plain": [
       "<Figure size 640x480 with 1 Axes>"
      ]
     },
     "metadata": {},
     "output_type": "display_data"
    }
   ],
   "source": [
    "maze_generator = MazeGenerator(10, 10, animation=True)\n",
    "plt.imshow(maze_generator.maze, cmap='viridis_r')"
   ]
  },
  {
   "cell_type": "code",
   "execution_count": 142,
   "id": "5a6b61a5-ee7a-4b80-ac34-39c428c2813e",
   "metadata": {},
   "outputs": [],
   "source": [
    "maze_generator.generate_maze([0,0])"
   ]
  },
  {
   "cell_type": "code",
   "execution_count": 143,
   "id": "b2c7e5b0-6b29-4cf7-ac13-6b964ac14818",
   "metadata": {},
   "outputs": [
    {
     "data": {
      "text/plain": [
       "<matplotlib.image.AxesImage at 0x1232b1ee0>"
      ]
     },
     "execution_count": 143,
     "metadata": {},
     "output_type": "execute_result"
    },
    {
     "data": {
      "image/png": "[encoded data removed]",
      "text/plain": [
       "<Figure size 640x480 with 1 Axes>"
      ]
     },
     "metadata": {},
     "output_type": "display_data"
    }
   ],
   "source": [
    "plt.imshow(maze_generator.maze, cmap='viridis_r')"
   ]
  },
  {
   "cell_type": "code",
   "execution_count": 144,
   "id": "fa94d89a-920c-409a-9510-f3830eade6cd",
   "metadata": {},
   "outputs": [
    {
     "name": "stdout",
     "output_type": "stream",
     "text": [
      "[[0. 0. 0. 0. 0. 0. 0. 0. 0. 1.]\n",
      " [0. 1. 1. 1. 0. 1. 1. 1. 0. 1.]\n",
      " [0. 0. 0. 0. 0. 1. 0. 0. 0. 1.]\n",
      " [1. 1. 1. 1. 1. 1. 0. 1. 1. 1.]\n",
      " [0. 0. 0. 0. 0. 1. 0. 1. 0. 1.]\n",
      " [0. 1. 0. 1. 0. 1. 0. 1. 0. 1.]\n",
      " [0. 1. 0. 1. 0. 1. 0. 1. 0. 1.]\n",
      " [0. 1. 0. 1. 1. 1. 0. 1. 0. 1.]\n",
      " [0. 1. 0. 0. 0. 0. 0. 0. 0. 1.]\n",
      " [1. 1. 1. 1. 1. 1. 1. 1. 1. 1.]]\n"
     ]
    },
    {
     "ename": "TypeError",
     "evalue": "'NoneType' object is not callable",
     "output_type": "error",
     "traceback": [
      "\u001b[0;31m---------------------------------------------------------------------------\u001b[0m",
      "\u001b[0;31mTypeError\u001b[0m                                 Traceback (most recent call last)",
      "Cell \u001b[0;32mIn[144], line 1\u001b[0m\n\u001b[0;32m----> 1\u001b[0m \u001b[43mmaze_generator\u001b[49m\u001b[38;5;241;43m.\u001b[39;49m\u001b[43manimate\u001b[49m\u001b[43m(\u001b[49m\u001b[43m)\u001b[49m\u001b[43m(\u001b[49m\u001b[43m)\u001b[49m\n",
      "\u001b[0;31mTypeError\u001b[0m: 'NoneType' object is not callable"
     ]
    }
   ],
   "source": [
    "maze_generator.animate()"
   ]
  },
  {
   "cell_type": "code",
   "execution_count": null,
   "id": "772ae2aa-fad5-4b45-a9c4-ee8ebf05a2aa",
   "metadata": {},
   "outputs": [],
   "source": []
  },
  {
   "cell_type": "code",
   "execution_count": null,
   "id": "c3ec7933-3712-495c-99a9-25244a02fd0c",
   "metadata": {},
   "outputs": [],
   "source": []
  }
 ],
 "metadata": {
  "kernelspec": {
   "display_name": "Python 3 (ipykernel)",
   "language": "python",
   "name": "python3"
  },
  "language_info": {
   "codemirror_mode": {
    "name": "ipython",
    "version": 3
   },
   "file_extension": ".py",
   "mimetype": "text/x-python",
   "name": "python",
   "nbconvert_exporter": "python",
   "pygments_lexer": "ipython3",
   "version": "3.9.6"
  }
 },
 "nbformat": 4,
 "nbformat_minor": 5
}
